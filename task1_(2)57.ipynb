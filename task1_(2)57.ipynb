{
  "nbformat": 4,
  "nbformat_minor": 0,
  "metadata": {
    "colab": {
      "provenance": []
    },
    "kernelspec": {
      "name": "python3",
      "display_name": "Python 3"
    },
    "language_info": {
      "name": "python"
    },
    "accelerator": "GPU",
    "gpuClass": "standard"
  },
  "cells": [
    {
      "cell_type": "code",
      "execution_count": 154,
      "metadata": {
        "id": "HQY3_wwygVvP"
      },
      "outputs": [],
      "source": [
        "import numpy as np\n",
        "import pandas as pd\n",
        "import tensorflow as tf\n",
        "import os\n",
        "from keras.preprocessing.image import ImageDataGenerator\n",
        "from tensorflow.keras.utils import load_img\n",
        "from keras.layers import Conv2D, Dense, BatchNormalization, Activation, Dropout, MaxPooling2D, Flatten\n",
        "from tensorflow.keras.optimizers import Adam, RMSprop, SGD\n",
        "from keras.callbacks import ModelCheckpoint,EarlyStopping\n",
        "import datetime\n",
        "from keras import regularizers\n",
        "import matplotlib.pyplot as plt\n",
        "from keras.utils.vis_utils import plot_model\n",
        "from sklearn.model_selection import train_test_split"
      ]
    },
    {
      "cell_type": "code",
      "source": [
        "# Configure kaggle\n",
        "os.chdir('/root/')\n",
        "!mkdir -p .kaggle\n",
        "os.chdir('/root/.kaggle')\n",
        "!wget --no-check-certificate 'https://docs.google.com/uc?export=download&id=1Y-o0TVcjehM8SZB3Nt8U3xkyeQu-Nse-' -O kaggle.json > /dev/null 2>&1\n",
        "!ls /root/.kaggle\n",
        "\n",
        "# Set permissions \n",
        "!chmod 600 /root/.kaggle/kaggle.json\n",
        "\n",
        "# Create data folder\n",
        "os.chdir('/content/')\n",
        "!rm -rf data\n",
        "!mkdir data\n",
        "os.chdir('data')\n",
        "!pwd\n",
        "\n",
        "# Download data\n",
        "!pip install -q kaggle\n",
        "!kaggle competitions download -c challenges-in-representation-learning-facial-expression-recognition-challenge\n",
        "!pwd\n",
        "!ls\n",
        "# Unzip data\n",
        "!unzip challenges-in-representation-learning-facial-expression-recognition-challenge.zip train.csv"
      ],
      "metadata": {
        "colab": {
          "base_uri": "https://localhost:8080/"
        },
        "id": "A_Y6R5rqgbVE",
        "outputId": "995f26e5-69d3-4b48-9595-247df1369f0c"
      },
      "execution_count": 155,
      "outputs": [
        {
          "output_type": "stream",
          "name": "stdout",
          "text": [
            "kaggle.json\n",
            "/content/data\n",
            "Downloading challenges-in-representation-learning-facial-expression-recognition-challenge.zip to /content/data\n",
            "100% 284M/285M [00:15<00:00, 20.0MB/s]\n",
            "100% 285M/285M [00:16<00:00, 18.7MB/s]\n",
            "/content/data\n",
            "challenges-in-representation-learning-facial-expression-recognition-challenge.zip\n",
            "Archive:  challenges-in-representation-learning-facial-expression-recognition-challenge.zip\n",
            "  inflating: train.csv               \n"
          ]
        }
      ]
    },
    {
      "cell_type": "code",
      "source": [
        "data = pd.read_csv('train.csv')\n",
        "print(data.head(5))"
      ],
      "metadata": {
        "id": "L0Y0Cc-Mgd8w",
        "colab": {
          "base_uri": "https://localhost:8080/"
        },
        "outputId": "fa15b373-2758-499b-f429-44adcdd10dfe"
      },
      "execution_count": 156,
      "outputs": [
        {
          "output_type": "stream",
          "name": "stdout",
          "text": [
            "   emotion                                             pixels\n",
            "0        0  70 80 82 72 58 58 60 63 54 58 60 48 89 115 121...\n",
            "1        0  151 150 147 155 148 133 111 140 170 174 182 15...\n",
            "2        2  231 212 156 164 174 138 161 173 182 200 106 38...\n",
            "3        4  24 32 36 30 32 23 19 20 30 41 21 22 32 34 21 1...\n",
            "4        6  4 0 0 0 0 0 0 0 0 0 0 0 3 15 23 28 48 50 58 84...\n"
          ]
        }
      ]
    },
    {
      "cell_type": "code",
      "source": [
        "import csv\n",
        "import numpy\n",
        "\n",
        "train_images = []\n",
        "train_labels = []\n",
        "\n",
        "categories_count = {}\n",
        "\n",
        "with open('train.csv') as train:\n",
        "\n",
        "    # Read train.csv file\n",
        "    csv_reader = csv.reader(train)\n",
        "    \n",
        "    next(csv_reader)  # Skip the header\n",
        "\n",
        "    for row in csv_reader:\n",
        "\n",
        "        # Append image\n",
        "        pixels_str = row[1]\n",
        "        pixels_list = [int(i) for i in pixels_str.split(' ')]\n",
        "        pixels_list = numpy.array(pixels_list, dtype='uint8')\n",
        "        image = pixels_list.reshape((48, 48))\n",
        "        train_images.append(image)\n",
        "\n",
        "        label_str = row[0]\n",
        "\n",
        "        # Calculate categories count\n",
        "        count = 0\n",
        "        if label_str in categories_count:\n",
        "            count = categories_count[label_str] + 1\n",
        "        categories_count[label_str] = count\n",
        "\n",
        "        # Append label\n",
        "        label = int(label_str)\n",
        "        train_labels.append(label)\n",
        "\n",
        "# Create numpy array of train images and labels\n",
        "x_train = numpy.array(train_images)\n",
        "y_train = numpy.array(train_labels)\n",
        "\n",
        "print('x_train shape: {0}'.format(x_train.shape))\n",
        "print('y_train shape: {0}'.format(y_train.shape))"
      ],
      "metadata": {
        "id": "HViu1igcggw4",
        "colab": {
          "base_uri": "https://localhost:8080/"
        },
        "outputId": "1a373252-88ca-42d8-80ca-8954d8955649"
      },
      "execution_count": 157,
      "outputs": [
        {
          "output_type": "stream",
          "name": "stdout",
          "text": [
            "x_train shape: (28709, 48, 48)\n",
            "y_train shape: (28709,)\n"
          ]
        }
      ]
    },
    {
      "cell_type": "code",
      "source": [
        "categories = ('Angry', 'Disgust', 'Fear', 'Happy', 'Sad', 'Surprise', 'Neutral')\n",
        "y_pos = numpy.arange(len(categories))\n",
        "\n",
        "counts = []\n",
        "for label in range(len(categories)):\n",
        "    label_str = str(label)\n",
        "    count = categories_count[label_str]\n",
        "    counts.append(count)\n",
        "\n",
        "# Draw histogram\n",
        "plt.bar(y_pos, counts, align='center')\n",
        "plt.xticks(y_pos, categories)\n",
        "plt.ylabel('Count')\n",
        "plt.title('FER2013 Dataset Categories')\n",
        "\n",
        "plt.show()"
      ],
      "metadata": {
        "id": "YzII6OtRgjyK",
        "colab": {
          "base_uri": "https://localhost:8080/",
          "height": 452
        },
        "outputId": "6357e049-870e-4758-b13b-e71b4925b868"
      },
      "execution_count": 158,
      "outputs": [
        {
          "output_type": "display_data",
          "data": {
            "text/plain": [
              "<Figure size 640x480 with 1 Axes>"
            ],
            "image/png": "[encoded data removed]"
          },
          "metadata": {}
        }
      ]
    },
    {
      "cell_type": "code",
      "source": [
        "\n",
        "# Split dataset into train set and test set\n",
        "x_train, x_test, y_train, y_test = train_test_split(x_train, y_train, test_size=0.2)\n",
        "x_train, x_test = x_train / 255.0, x_test / 255.0\n",
        "\n",
        "x_train = x_train.reshape(len(x_train), 48, 48,1 )\n",
        "x_test = x_test.reshape(len(x_test), 48, 48,1 )\n",
        "\n",
        "print(x_train.shape)\n",
        "print(x_test.shape)"
      ],
      "metadata": {
        "id": "y9yoWQPQgl7C",
        "colab": {
          "base_uri": "https://localhost:8080/"
        },
        "outputId": "3d65df37-2f24-42d8-abd7-a68d47894976"
      },
      "execution_count": 159,
      "outputs": [
        {
          "output_type": "stream",
          "name": "stdout",
          "text": [
            "(22967, 48, 48, 1)\n",
            "(5742, 48, 48, 1)\n"
          ]
        }
      ]
    },
    {
      "cell_type": "code",
      "source": [
        "# kk = pd.DataFrame(x_train[3])"
      ],
      "metadata": {
        "id": "Y2n5hSXFgoxy"
      },
      "execution_count": 160,
      "outputs": []
    },
    {
      "cell_type": "code",
      "source": [
        "# kk"
      ],
      "metadata": {
        "id": "VtcHNf9KQYyw"
      },
      "execution_count": 161,
      "outputs": []
    },
    {
      "cell_type": "code",
      "source": [
        "# kk.describe()"
      ],
      "metadata": {
        "id": "bAXww1BmQZq5"
      },
      "execution_count": 162,
      "outputs": []
    },
    {
      "cell_type": "code",
      "source": [
        "from tensorflow import keras\n",
        "model = keras.Sequential()\n",
        "\n",
        "model.add(Conv2D(128,kernel_size=(3,3),padding='same',activation='relu',input_shape = (48, 48,1)))\n",
        "model.add(BatchNormalization())\n",
        "model.add(MaxPooling2D(pool_size=(2,2),strides=2,padding='same'))\n",
        "\n",
        "model.add(Conv2D(64,kernel_size=(3,3),padding='same',activation='relu'))\n",
        "model.add(BatchNormalization())\n",
        "model.add(MaxPooling2D(pool_size=(2,2),strides=2,padding='same'))\n",
        "\n",
        "model.add(Conv2D(64,kernel_size=(3,3),padding='same',activation='relu'))\n",
        "model.add(BatchNormalization())\n",
        "model.add(MaxPooling2D(pool_size=(2,2),strides=2,padding='same'))\n",
        "\n",
        "model.add(Conv2D(32,kernel_size=(3,3),padding='same',activation='relu'))\n",
        "model.add(BatchNormalization())\n",
        "model.add(MaxPooling2D(pool_size=(2,2),strides=2,padding='same'))\n",
        "\n",
        "\n",
        "model.add(Flatten())\n",
        "model.add(Dense(128,activation='relu'))\n",
        "model.add(Dropout(0.25))\n",
        "model.add(Dense(32,activation='relu'))\n",
        "model.add(Dropout(0.25))\n",
        "\n",
        "\n",
        "model.add(Dense(7,activation='softmax'))"
      ],
      "metadata": {
        "id": "QxQ8Y2A1Rru6"
      },
      "execution_count": 163,
      "outputs": []
    },
    {
      "cell_type": "code",
      "source": [
        "model.summary()"
      ],
      "metadata": {
        "id": "ayeZpFk6Zjwb",
        "colab": {
          "base_uri": "https://localhost:8080/"
        },
        "outputId": "7113fe70-2186-4302-d14b-c50abf0c1009"
      },
      "execution_count": 164,
      "outputs": [
        {
          "output_type": "stream",
          "name": "stdout",
          "text": [
            "Model: \"sequential_14\"\n",
            "_________________________________________________________________\n",
            " Layer (type)                Output Shape              Param #   \n",
            "=================================================================\n",
            " conv2d_57 (Conv2D)          (None, 48, 48, 128)       1280      \n",
            "                                                                 \n",
            " batch_normalization_56 (Bat  (None, 48, 48, 128)      512       \n",
            " chNormalization)                                                \n",
            "                                                                 \n",
            " max_pooling2d_56 (MaxPoolin  (None, 24, 24, 128)      0         \n",
            " g2D)                                                            \n",
            "                                                                 \n",
            " conv2d_58 (Conv2D)          (None, 24, 24, 64)        73792     \n",
            "                                                                 \n",
            " batch_normalization_57 (Bat  (None, 24, 24, 64)       256       \n",
            " chNormalization)                                                \n",
            "                                                                 \n",
            " max_pooling2d_57 (MaxPoolin  (None, 12, 12, 64)       0         \n",
            " g2D)                                                            \n",
            "                                                                 \n",
            " conv2d_59 (Conv2D)          (None, 12, 12, 64)        36928     \n",
            "                                                                 \n",
            " batch_normalization_58 (Bat  (None, 12, 12, 64)       256       \n",
            " chNormalization)                                                \n",
            "                                                                 \n",
            " max_pooling2d_58 (MaxPoolin  (None, 6, 6, 64)         0         \n",
            " g2D)                                                            \n",
            "                                                                 \n",
            " conv2d_60 (Conv2D)          (None, 6, 6, 32)          18464     \n",
            "                                                                 \n",
            " batch_normalization_59 (Bat  (None, 6, 6, 32)         128       \n",
            " chNormalization)                                                \n",
            "                                                                 \n",
            " max_pooling2d_59 (MaxPoolin  (None, 3, 3, 32)         0         \n",
            " g2D)                                                            \n",
            "                                                                 \n",
            " flatten_13 (Flatten)        (None, 288)               0         \n",
            "                                                                 \n",
            " dense_42 (Dense)            (None, 128)               36992     \n",
            "                                                                 \n",
            " dropout_29 (Dropout)        (None, 128)               0         \n",
            "                                                                 \n",
            " dense_43 (Dense)            (None, 32)                4128      \n",
            "                                                                 \n",
            " dropout_30 (Dropout)        (None, 32)                0         \n",
            "                                                                 \n",
            " dense_44 (Dense)            (None, 7)                 231       \n",
            "                                                                 \n",
            "=================================================================\n",
            "Total params: 172,967\n",
            "Trainable params: 172,391\n",
            "Non-trainable params: 576\n",
            "_________________________________________________________________\n"
          ]
        }
      ]
    },
    {
      "cell_type": "code",
      "source": [
        "model.compile(optimizer=\"adam\",loss='sparse_categorical_crossentropy',metrics =['accuracy'])"
      ],
      "metadata": {
        "id": "Yon8vE3oavIz"
      },
      "execution_count": 165,
      "outputs": []
    },
    {
      "cell_type": "code",
      "source": [
        "callback = tf.keras.callbacks.EarlyStopping(\n",
        "    monitor=\"val_loss\",\n",
        "    min_delta=0.02,\n",
        "    patience=0,\n",
        "    verbose=1,\n",
        "    mode=\"auto\",\n",
        "    baseline=None,\n",
        "    restore_best_weights=False,\n",
        "    start_from_epoch=0,\n",
        ")"
      ],
      "metadata": {
        "id": "CnogmJgNijcp"
      },
      "execution_count": 166,
      "outputs": []
    },
    {
      "cell_type": "code",
      "source": [
        "history = model.fit(x_train,y_train,epochs=100,validation_data=(x_test,y_test))\n",
        "# history = model.fit(x_train,y_train,epochs=100,validation_split =0.2,callbacks=callback)"
      ],
      "metadata": {
        "id": "PBnz7NLfbI1R",
        "colab": {
          "base_uri": "https://localhost:8080/"
        },
        "outputId": "4f39f72b-3277-48be-b899-f7d509ab1587"
      },
      "execution_count": 173,
      "outputs": [
        {
          "output_type": "stream",
          "name": "stdout",
          "text": [
            "Epoch 1/100\n",
            "718/718 [==============================] - 8s 11ms/step - loss: 0.5597 - accuracy: 0.7935 - val_loss: 2.1146 - val_accuracy: 0.5178\n",
            "Epoch 2/100\n",
            "718/718 [==============================] - 8s 11ms/step - loss: 0.5225 - accuracy: 0.8078 - val_loss: 1.6447 - val_accuracy: 0.5576\n",
            "Epoch 3/100\n",
            "718/718 [==============================] - 8s 11ms/step - loss: 0.4951 - accuracy: 0.8200 - val_loss: 1.6825 - val_accuracy: 0.5568\n",
            "Epoch 4/100\n",
            "718/718 [==============================] - 7s 10ms/step - loss: 0.4660 - accuracy: 0.8305 - val_loss: 1.8262 - val_accuracy: 0.5636\n",
            "Epoch 5/100\n",
            "718/718 [==============================] - 8s 11ms/step - loss: 0.4539 - accuracy: 0.8335 - val_loss: 1.8534 - val_accuracy: 0.5604\n",
            "Epoch 6/100\n",
            "718/718 [==============================] - 7s 10ms/step - loss: 0.4265 - accuracy: 0.8468 - val_loss: 1.9454 - val_accuracy: 0.5651\n",
            "Epoch 7/100\n",
            "718/718 [==============================] - 8s 11ms/step - loss: 0.4092 - accuracy: 0.8524 - val_loss: 2.2945 - val_accuracy: 0.5218\n",
            "Epoch 8/100\n",
            "718/718 [==============================] - 8s 11ms/step - loss: 0.3847 - accuracy: 0.8618 - val_loss: 2.0622 - val_accuracy: 0.5582\n",
            "Epoch 9/100\n",
            "718/718 [==============================] - 7s 10ms/step - loss: 0.3772 - accuracy: 0.8645 - val_loss: 2.0456 - val_accuracy: 0.5543\n",
            "Epoch 10/100\n",
            "718/718 [==============================] - 8s 11ms/step - loss: 0.3545 - accuracy: 0.8738 - val_loss: 2.2130 - val_accuracy: 0.5683\n",
            "Epoch 11/100\n",
            "718/718 [==============================] - 7s 10ms/step - loss: 0.3540 - accuracy: 0.8729 - val_loss: 2.1930 - val_accuracy: 0.5646\n",
            "Epoch 12/100\n",
            "718/718 [==============================] - 8s 11ms/step - loss: 0.3417 - accuracy: 0.8801 - val_loss: 2.2052 - val_accuracy: 0.5646\n",
            "Epoch 13/100\n",
            "718/718 [==============================] - 8s 11ms/step - loss: 0.3270 - accuracy: 0.8839 - val_loss: 2.1519 - val_accuracy: 0.5724\n",
            "Epoch 14/100\n",
            "718/718 [==============================] - 7s 10ms/step - loss: 0.3182 - accuracy: 0.8866 - val_loss: 2.1495 - val_accuracy: 0.5597\n",
            "Epoch 15/100\n",
            "718/718 [==============================] - 8s 11ms/step - loss: 0.3028 - accuracy: 0.8944 - val_loss: 2.3956 - val_accuracy: 0.5596\n",
            "Epoch 16/100\n",
            "718/718 [==============================] - 7s 10ms/step - loss: 0.2961 - accuracy: 0.8969 - val_loss: 2.4549 - val_accuracy: 0.5622\n",
            "Epoch 17/100\n",
            "718/718 [==============================] - 8s 11ms/step - loss: 0.2862 - accuracy: 0.9016 - val_loss: 2.4900 - val_accuracy: 0.5705\n",
            "Epoch 18/100\n",
            "718/718 [==============================] - 8s 11ms/step - loss: 0.2847 - accuracy: 0.9019 - val_loss: 2.5761 - val_accuracy: 0.5512\n",
            "Epoch 19/100\n",
            "718/718 [==============================] - 7s 10ms/step - loss: 0.2732 - accuracy: 0.9051 - val_loss: 2.4771 - val_accuracy: 0.5493\n",
            "Epoch 20/100\n",
            "718/718 [==============================] - 8s 11ms/step - loss: 0.2585 - accuracy: 0.9093 - val_loss: 2.5070 - val_accuracy: 0.5646\n",
            "Epoch 21/100\n",
            "718/718 [==============================] - 7s 10ms/step - loss: 0.2553 - accuracy: 0.9113 - val_loss: 2.5119 - val_accuracy: 0.5622\n",
            "Epoch 22/100\n",
            "718/718 [==============================] - 8s 11ms/step - loss: 0.2509 - accuracy: 0.9141 - val_loss: 2.4304 - val_accuracy: 0.5514\n",
            "Epoch 23/100\n",
            "718/718 [==============================] - 8s 11ms/step - loss: 0.2373 - accuracy: 0.9168 - val_loss: 2.5725 - val_accuracy: 0.5603\n",
            "Epoch 24/100\n",
            "718/718 [==============================] - 7s 10ms/step - loss: 0.2371 - accuracy: 0.9175 - val_loss: 2.8479 - val_accuracy: 0.5547\n",
            "Epoch 25/100\n",
            "718/718 [==============================] - 8s 11ms/step - loss: 0.2303 - accuracy: 0.9196 - val_loss: 2.8867 - val_accuracy: 0.5669\n",
            "Epoch 26/100\n",
            "718/718 [==============================] - 7s 10ms/step - loss: 0.2097 - accuracy: 0.9274 - val_loss: 3.0405 - val_accuracy: 0.5310\n",
            "Epoch 27/100\n",
            "718/718 [==============================] - 8s 11ms/step - loss: 0.2260 - accuracy: 0.9238 - val_loss: 2.9359 - val_accuracy: 0.5559\n",
            "Epoch 28/100\n",
            "718/718 [==============================] - 8s 11ms/step - loss: 0.2198 - accuracy: 0.9243 - val_loss: 3.0781 - val_accuracy: 0.5575\n",
            "Epoch 29/100\n",
            "718/718 [==============================] - 7s 10ms/step - loss: 0.2161 - accuracy: 0.9290 - val_loss: 2.8668 - val_accuracy: 0.5503\n",
            "Epoch 30/100\n",
            "718/718 [==============================] - 8s 11ms/step - loss: 0.2053 - accuracy: 0.9307 - val_loss: 2.7745 - val_accuracy: 0.5651\n",
            "Epoch 31/100\n",
            "718/718 [==============================] - 8s 11ms/step - loss: 0.2033 - accuracy: 0.9319 - val_loss: 2.7849 - val_accuracy: 0.5613\n",
            "Epoch 32/100\n",
            "718/718 [==============================] - 7s 10ms/step - loss: 0.1960 - accuracy: 0.9315 - val_loss: 2.7123 - val_accuracy: 0.5460\n",
            "Epoch 33/100\n",
            "718/718 [==============================] - 8s 11ms/step - loss: 0.1905 - accuracy: 0.9333 - val_loss: 3.5624 - val_accuracy: 0.5470\n",
            "Epoch 34/100\n",
            "718/718 [==============================] - 7s 10ms/step - loss: 0.1877 - accuracy: 0.9358 - val_loss: 2.9993 - val_accuracy: 0.5634\n",
            "Epoch 35/100\n",
            "718/718 [==============================] - 8s 11ms/step - loss: 0.1954 - accuracy: 0.9333 - val_loss: 3.3620 - val_accuracy: 0.5411\n",
            "Epoch 36/100\n",
            "718/718 [==============================] - 8s 11ms/step - loss: 0.1823 - accuracy: 0.9376 - val_loss: 3.4553 - val_accuracy: 0.5493\n",
            "Epoch 37/100\n",
            "718/718 [==============================] - 7s 10ms/step - loss: 0.1837 - accuracy: 0.9357 - val_loss: 3.0439 - val_accuracy: 0.5674\n",
            "Epoch 38/100\n",
            "718/718 [==============================] - 8s 11ms/step - loss: 0.1742 - accuracy: 0.9403 - val_loss: 2.9902 - val_accuracy: 0.5604\n",
            "Epoch 39/100\n",
            "718/718 [==============================] - 7s 10ms/step - loss: 0.1714 - accuracy: 0.9425 - val_loss: 3.3605 - val_accuracy: 0.5552\n",
            "Epoch 40/100\n",
            "718/718 [==============================] - 8s 11ms/step - loss: 0.1684 - accuracy: 0.9437 - val_loss: 3.3460 - val_accuracy: 0.5629\n",
            "Epoch 41/100\n",
            "718/718 [==============================] - 8s 11ms/step - loss: 0.1756 - accuracy: 0.9410 - val_loss: 3.0030 - val_accuracy: 0.5448\n",
            "Epoch 42/100\n",
            "718/718 [==============================] - 7s 10ms/step - loss: 0.1710 - accuracy: 0.9425 - val_loss: 3.5441 - val_accuracy: 0.5575\n",
            "Epoch 43/100\n",
            "718/718 [==============================] - 8s 11ms/step - loss: 0.1643 - accuracy: 0.9447 - val_loss: 3.0635 - val_accuracy: 0.5690\n",
            "Epoch 44/100\n",
            "718/718 [==============================] - 7s 10ms/step - loss: 0.1603 - accuracy: 0.9454 - val_loss: 3.4031 - val_accuracy: 0.5467\n",
            "Epoch 45/100\n",
            "718/718 [==============================] - 8s 11ms/step - loss: 0.1624 - accuracy: 0.9467 - val_loss: 3.3750 - val_accuracy: 0.5519\n",
            "Epoch 46/100\n",
            "718/718 [==============================] - 8s 11ms/step - loss: 0.1604 - accuracy: 0.9457 - val_loss: 3.1771 - val_accuracy: 0.5646\n",
            "Epoch 47/100\n",
            "718/718 [==============================] - 7s 10ms/step - loss: 0.1532 - accuracy: 0.9499 - val_loss: 3.2712 - val_accuracy: 0.5468\n",
            "Epoch 48/100\n",
            "718/718 [==============================] - 8s 11ms/step - loss: 0.1464 - accuracy: 0.9506 - val_loss: 3.4719 - val_accuracy: 0.5597\n",
            "Epoch 49/100\n",
            "718/718 [==============================] - 7s 10ms/step - loss: 0.1557 - accuracy: 0.9485 - val_loss: 3.2964 - val_accuracy: 0.5686\n",
            "Epoch 50/100\n",
            "718/718 [==============================] - 8s 11ms/step - loss: 0.1378 - accuracy: 0.9532 - val_loss: 3.3645 - val_accuracy: 0.5559\n",
            "Epoch 51/100\n",
            "718/718 [==============================] - 8s 12ms/step - loss: 0.1454 - accuracy: 0.9501 - val_loss: 3.3332 - val_accuracy: 0.5670\n",
            "Epoch 52/100\n",
            "718/718 [==============================] - 7s 10ms/step - loss: 0.1509 - accuracy: 0.9502 - val_loss: 3.3231 - val_accuracy: 0.5639\n",
            "Epoch 53/100\n",
            "718/718 [==============================] - 8s 11ms/step - loss: 0.1346 - accuracy: 0.9563 - val_loss: 3.7986 - val_accuracy: 0.5573\n",
            "Epoch 54/100\n",
            "718/718 [==============================] - 8s 11ms/step - loss: 0.1438 - accuracy: 0.9508 - val_loss: 3.3729 - val_accuracy: 0.5484\n",
            "Epoch 55/100\n",
            "718/718 [==============================] - 7s 10ms/step - loss: 0.1491 - accuracy: 0.9494 - val_loss: 3.3145 - val_accuracy: 0.5683\n",
            "Epoch 56/100\n",
            "718/718 [==============================] - 8s 11ms/step - loss: 0.1383 - accuracy: 0.9538 - val_loss: 3.3336 - val_accuracy: 0.5610\n",
            "Epoch 57/100\n",
            "718/718 [==============================] - 7s 10ms/step - loss: 0.1376 - accuracy: 0.9538 - val_loss: 3.5567 - val_accuracy: 0.5667\n",
            "Epoch 58/100\n",
            "718/718 [==============================] - 8s 11ms/step - loss: 0.1248 - accuracy: 0.9576 - val_loss: 3.7295 - val_accuracy: 0.5664\n",
            "Epoch 59/100\n",
            "718/718 [==============================] - 8s 11ms/step - loss: 0.1317 - accuracy: 0.9553 - val_loss: 3.7916 - val_accuracy: 0.5630\n",
            "Epoch 60/100\n",
            "718/718 [==============================] - 7s 10ms/step - loss: 0.1264 - accuracy: 0.9591 - val_loss: 3.5338 - val_accuracy: 0.5599\n",
            "Epoch 61/100\n",
            "718/718 [==============================] - 8s 11ms/step - loss: 0.1272 - accuracy: 0.9598 - val_loss: 3.4202 - val_accuracy: 0.5627\n",
            "Epoch 62/100\n",
            "718/718 [==============================] - 7s 10ms/step - loss: 0.1382 - accuracy: 0.9549 - val_loss: 3.5666 - val_accuracy: 0.5510\n",
            "Epoch 63/100\n",
            "718/718 [==============================] - 8s 11ms/step - loss: 0.1209 - accuracy: 0.9609 - val_loss: 4.0210 - val_accuracy: 0.5606\n",
            "Epoch 64/100\n",
            "718/718 [==============================] - 8s 11ms/step - loss: 0.1251 - accuracy: 0.9600 - val_loss: 3.8436 - val_accuracy: 0.5610\n",
            "Epoch 65/100\n",
            "718/718 [==============================] - 7s 10ms/step - loss: 0.1242 - accuracy: 0.9582 - val_loss: 3.5797 - val_accuracy: 0.5507\n",
            "Epoch 66/100\n",
            "718/718 [==============================] - 8s 11ms/step - loss: 0.1314 - accuracy: 0.9571 - val_loss: 4.2427 - val_accuracy: 0.5475\n",
            "Epoch 67/100\n",
            "718/718 [==============================] - 7s 10ms/step - loss: 0.1235 - accuracy: 0.9606 - val_loss: 3.6635 - val_accuracy: 0.5592\n",
            "Epoch 68/100\n",
            "718/718 [==============================] - 8s 11ms/step - loss: 0.1103 - accuracy: 0.9633 - val_loss: 3.9834 - val_accuracy: 0.5613\n",
            "Epoch 69/100\n",
            "718/718 [==============================] - 8s 11ms/step - loss: 0.1111 - accuracy: 0.9634 - val_loss: 3.7005 - val_accuracy: 0.5439\n",
            "Epoch 70/100\n",
            "718/718 [==============================] - 7s 10ms/step - loss: 0.1229 - accuracy: 0.9604 - val_loss: 3.6984 - val_accuracy: 0.5569\n",
            "Epoch 71/100\n",
            "718/718 [==============================] - 8s 11ms/step - loss: 0.1212 - accuracy: 0.9605 - val_loss: 3.6083 - val_accuracy: 0.5488\n",
            "Epoch 72/100\n",
            "718/718 [==============================] - 7s 10ms/step - loss: 0.1043 - accuracy: 0.9661 - val_loss: 4.3139 - val_accuracy: 0.5531\n",
            "Epoch 73/100\n",
            "718/718 [==============================] - 8s 11ms/step - loss: 0.1245 - accuracy: 0.9609 - val_loss: 3.7439 - val_accuracy: 0.5590\n",
            "Epoch 74/100\n",
            "718/718 [==============================] - 8s 11ms/step - loss: 0.1100 - accuracy: 0.9645 - val_loss: 3.7593 - val_accuracy: 0.5632\n",
            "Epoch 75/100\n",
            "718/718 [==============================] - 8s 11ms/step - loss: 0.1112 - accuracy: 0.9632 - val_loss: 3.7140 - val_accuracy: 0.5603\n",
            "Epoch 76/100\n",
            "718/718 [==============================] - 8s 11ms/step - loss: 0.1142 - accuracy: 0.9636 - val_loss: 3.9125 - val_accuracy: 0.5521\n",
            "Epoch 77/100\n",
            "718/718 [==============================] - 8s 11ms/step - loss: 0.1062 - accuracy: 0.9649 - val_loss: 4.3684 - val_accuracy: 0.5547\n",
            "Epoch 78/100\n",
            "718/718 [==============================] - 7s 10ms/step - loss: 0.1006 - accuracy: 0.9654 - val_loss: 4.2650 - val_accuracy: 0.5596\n",
            "Epoch 79/100\n",
            "718/718 [==============================] - 8s 11ms/step - loss: 0.1037 - accuracy: 0.9657 - val_loss: 3.9889 - val_accuracy: 0.5634\n",
            "Epoch 80/100\n",
            "718/718 [==============================] - 7s 10ms/step - loss: 0.1004 - accuracy: 0.9679 - val_loss: 3.8038 - val_accuracy: 0.5463\n",
            "Epoch 81/100\n",
            "718/718 [==============================] - 8s 11ms/step - loss: 0.1105 - accuracy: 0.9651 - val_loss: 4.0873 - val_accuracy: 0.5632\n",
            "Epoch 82/100\n",
            "718/718 [==============================] - 8s 11ms/step - loss: 0.1092 - accuracy: 0.9657 - val_loss: 3.8661 - val_accuracy: 0.5533\n",
            "Epoch 83/100\n",
            "718/718 [==============================] - 7s 10ms/step - loss: 0.0936 - accuracy: 0.9695 - val_loss: 4.4188 - val_accuracy: 0.5502\n",
            "Epoch 84/100\n",
            "718/718 [==============================] - 8s 11ms/step - loss: 0.0977 - accuracy: 0.9673 - val_loss: 4.2729 - val_accuracy: 0.5704\n",
            "Epoch 85/100\n",
            "718/718 [==============================] - 7s 10ms/step - loss: 0.1051 - accuracy: 0.9672 - val_loss: 4.2563 - val_accuracy: 0.5519\n",
            "Epoch 86/100\n",
            "718/718 [==============================] - 8s 11ms/step - loss: 0.1005 - accuracy: 0.9678 - val_loss: 4.4706 - val_accuracy: 0.5446\n",
            "Epoch 87/100\n",
            "718/718 [==============================] - 8s 11ms/step - loss: 0.1060 - accuracy: 0.9663 - val_loss: 4.0007 - val_accuracy: 0.5564\n",
            "Epoch 88/100\n",
            "718/718 [==============================] - 7s 10ms/step - loss: 0.1007 - accuracy: 0.9674 - val_loss: 3.8730 - val_accuracy: 0.5481\n",
            "Epoch 89/100\n",
            "718/718 [==============================] - 8s 11ms/step - loss: 0.0973 - accuracy: 0.9677 - val_loss: 3.8246 - val_accuracy: 0.5575\n",
            "Epoch 90/100\n",
            "718/718 [==============================] - 8s 11ms/step - loss: 0.0997 - accuracy: 0.9685 - val_loss: 4.2235 - val_accuracy: 0.5543\n",
            "Epoch 91/100\n",
            "718/718 [==============================] - 7s 10ms/step - loss: 0.0934 - accuracy: 0.9689 - val_loss: 3.8834 - val_accuracy: 0.5509\n",
            "Epoch 92/100\n",
            "718/718 [==============================] - 8s 11ms/step - loss: 0.0926 - accuracy: 0.9692 - val_loss: 4.4540 - val_accuracy: 0.5542\n",
            "Epoch 93/100\n",
            "718/718 [==============================] - 7s 10ms/step - loss: 0.0921 - accuracy: 0.9694 - val_loss: 3.9900 - val_accuracy: 0.5571\n",
            "Epoch 94/100\n",
            "718/718 [==============================] - 8s 11ms/step - loss: 0.0956 - accuracy: 0.9690 - val_loss: 3.9348 - val_accuracy: 0.5603\n",
            "Epoch 95/100\n",
            "718/718 [==============================] - 8s 11ms/step - loss: 0.0937 - accuracy: 0.9704 - val_loss: 4.8724 - val_accuracy: 0.5395\n",
            "Epoch 96/100\n",
            "718/718 [==============================] - 7s 10ms/step - loss: 0.0891 - accuracy: 0.9715 - val_loss: 4.2737 - val_accuracy: 0.5536\n",
            "Epoch 97/100\n",
            "718/718 [==============================] - 8s 11ms/step - loss: 0.0960 - accuracy: 0.9694 - val_loss: 3.8516 - val_accuracy: 0.5561\n",
            "Epoch 98/100\n",
            "718/718 [==============================] - 7s 10ms/step - loss: 0.0820 - accuracy: 0.9740 - val_loss: 4.3408 - val_accuracy: 0.5575\n",
            "Epoch 99/100\n",
            "718/718 [==============================] - 8s 11ms/step - loss: 0.0972 - accuracy: 0.9696 - val_loss: 3.9892 - val_accuracy: 0.5526\n",
            "Epoch 100/100\n",
            "718/718 [==============================] - 8s 11ms/step - loss: 0.0885 - accuracy: 0.9709 - val_loss: 4.2811 - val_accuracy: 0.5684\n"
          ]
        }
      ]
    },
    {
      "cell_type": "code",
      "source": [
        "y_prob =model.predict(x_test)"
      ],
      "metadata": {
        "id": "x5wGenTbbmBW",
        "colab": {
          "base_uri": "https://localhost:8080/"
        },
        "outputId": "26a3499e-086a-4d9d-d524-cd3493af5865"
      },
      "execution_count": 174,
      "outputs": [
        {
          "output_type": "stream",
          "name": "stdout",
          "text": [
            "180/180 [==============================] - 1s 3ms/step\n"
          ]
        }
      ]
    },
    {
      "cell_type": "code",
      "source": [
        "y_pred=y_prob.argmax(axis=1)"
      ],
      "metadata": {
        "id": "uyUI1JWzeKxt"
      },
      "execution_count": 175,
      "outputs": []
    },
    {
      "cell_type": "code",
      "source": [
        "from sklearn.metrics import accuracy_score\n",
        "accuracy_score(y_test,y_pred)"
      ],
      "metadata": {
        "id": "k8kn023xeNUp",
        "colab": {
          "base_uri": "https://localhost:8080/"
        },
        "outputId": "6fe64493-7373-4fd7-fa34-edee320d17b6"
      },
      "execution_count": 176,
      "outputs": [
        {
          "output_type": "execute_result",
          "data": {
            "text/plain": [
              "0.5684430512016719"
            ]
          },
          "metadata": {},
          "execution_count": 176
        }
      ]
    },
    {
      "cell_type": "code",
      "source": [
        "plt.plot(history.history['loss'])\n",
        "plt.plot(history.history['val_loss'])"
      ],
      "metadata": {
        "id": "LazXCOvgeQpE",
        "colab": {
          "base_uri": "https://localhost:8080/",
          "height": 447
        },
        "outputId": "df28af77-af83-4996-ef11-21bcc58b7a47"
      },
      "execution_count": 177,
      "outputs": [
        {
          "output_type": "execute_result",
          "data": {
            "text/plain": [
              "[<matplotlib.lines.Line2D at 0x7f231afe44f0>]"
            ]
          },
          "metadata": {},
          "execution_count": 177
        },
        {
          "output_type": "display_data",
          "data": {
            "text/plain": [
              "<Figure size 640x480 with 1 Axes>"
            ],
            "image/png": "[encoded data removed]"
          },
          "metadata": {}
        }
      ]
    },
    {
      "cell_type": "code",
      "source": [
        "plt.plot(history.history['accuracy'])\n",
        "plt.plot(history.history['val_accuracy'])"
      ],
      "metadata": {
        "id": "sVRvqOa3gl57",
        "colab": {
          "base_uri": "https://localhost:8080/",
          "height": 447
        },
        "outputId": "c4411628-7e4f-4807-af95-414e32ecd974"
      },
      "execution_count": 178,
      "outputs": [
        {
          "output_type": "execute_result",
          "data": {
            "text/plain": [
              "[<matplotlib.lines.Line2D at 0x7f231b0743d0>]"
            ]
          },
          "metadata": {},
          "execution_count": 178
        },
        {
          "output_type": "display_data",
          "data": {
            "text/plain": [
              "<Figure size 640x480 with 1 Axes>"
            ],
            "image/png": "[encoded data removed]"
          },
          "metadata": {}
        }
      ]
    },
    {
      "cell_type": "code",
      "source": [],
      "metadata": {
        "id": "ggsj7OE3koQG"
      },
      "execution_count": 172,
      "outputs": []
    }
  ]
}