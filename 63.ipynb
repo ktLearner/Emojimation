{
  "nbformat": 4,
  "nbformat_minor": 0,
  "metadata": {
    "colab": {
      "provenance": []
    },
    "kernelspec": {
      "name": "python3",
      "display_name": "Python 3"
    },
    "language_info": {
      "name": "python"
    },
    "accelerator": "GPU",
    "gpuClass": "standard"
  },
  "cells": [
    {
      "cell_type": "code",
      "execution_count": 1,
      "metadata": {
        "id": "HQY3_wwygVvP"
      },
      "outputs": [],
      "source": [
        "import numpy as np\n",
        "import pandas as pd\n",
        "import tensorflow as tf\n",
        "import os\n",
        "from keras.preprocessing.image import ImageDataGenerator\n",
        "from tensorflow.keras.utils import load_img\n",
        "from keras.layers import Conv2D, Dense, BatchNormalization, Activation, Dropout, MaxPooling2D, Flatten\n",
        "from tensorflow.keras.optimizers import Adam, RMSprop, SGD\n",
        "from keras.callbacks import ModelCheckpoint,EarlyStopping\n",
        "import datetime\n",
        "from keras import regularizers\n",
        "import matplotlib.pyplot as plt\n",
        "from keras.utils.vis_utils import plot_model\n",
        "from sklearn.model_selection import train_test_split"
      ]
    },
    {
      "cell_type": "code",
      "source": [
        "# Configure kaggle\n",
        "os.chdir('/root/')\n",
        "!mkdir -p .kaggle\n",
        "os.chdir('/root/.kaggle')\n",
        "!wget --no-check-certificate 'https://docs.google.com/uc?export=download&id=1Y-o0TVcjehM8SZB3Nt8U3xkyeQu-Nse-' -O kaggle.json > /dev/null 2>&1\n",
        "!ls /root/.kaggle\n",
        "\n",
        "# Set permissions \n",
        "!chmod 600 /root/.kaggle/kaggle.json\n",
        "\n",
        "# Create data folder\n",
        "os.chdir('/content/')\n",
        "!rm -rf data\n",
        "!mkdir data\n",
        "os.chdir('data')\n",
        "!pwd\n",
        "\n",
        "# Download data\n",
        "!pip install -q kaggle\n",
        "!kaggle competitions download -c challenges-in-representation-learning-facial-expression-recognition-challenge\n",
        "!pwd\n",
        "!ls\n",
        "# Unzip data\n",
        "!unzip challenges-in-representation-learning-facial-expression-recognition-challenge.zip train.csv"
      ],
      "metadata": {
        "colab": {
          "base_uri": "https://localhost:8080/"
        },
        "id": "A_Y6R5rqgbVE",
        "outputId": "15319f32-0f3c-4ca4-9421-a7cbdc572dfe"
      },
      "execution_count": 2,
      "outputs": [
        {
          "output_type": "stream",
          "name": "stdout",
          "text": [
            "kaggle.json\n",
            "/content/data\n",
            "Downloading challenges-in-representation-learning-facial-expression-recognition-challenge.zip to /content/data\n",
            "100% 285M/285M [00:07<00:00, 45.2MB/s]\n",
            "100% 285M/285M [00:07<00:00, 39.1MB/s]\n",
            "/content/data\n",
            "challenges-in-representation-learning-facial-expression-recognition-challenge.zip\n",
            "Archive:  challenges-in-representation-learning-facial-expression-recognition-challenge.zip\n",
            "  inflating: train.csv               \n"
          ]
        }
      ]
    },
    {
      "cell_type": "code",
      "source": [
        "data = pd.read_csv('train.csv')\n",
        "print(data.head(5))"
      ],
      "metadata": {
        "colab": {
          "base_uri": "https://localhost:8080/"
        },
        "id": "L0Y0Cc-Mgd8w",
        "outputId": "c3dfa746-10c0-4d9a-a383-05ed75cec0cf"
      },
      "execution_count": 3,
      "outputs": [
        {
          "output_type": "stream",
          "name": "stdout",
          "text": [
            "   emotion                                             pixels\n",
            "0        0  70 80 82 72 58 58 60 63 54 58 60 48 89 115 121...\n",
            "1        0  151 150 147 155 148 133 111 140 170 174 182 15...\n",
            "2        2  231 212 156 164 174 138 161 173 182 200 106 38...\n",
            "3        4  24 32 36 30 32 23 19 20 30 41 21 22 32 34 21 1...\n",
            "4        6  4 0 0 0 0 0 0 0 0 0 0 0 3 15 23 28 48 50 58 84...\n"
          ]
        }
      ]
    },
    {
      "cell_type": "code",
      "source": [
        "import csv\n",
        "import numpy\n",
        "\n",
        "train_images = []\n",
        "train_labels = []\n",
        "\n",
        "categories_count = {}\n",
        "\n",
        "with open('train.csv') as train:\n",
        "\n",
        "    # Read train.csv file\n",
        "    csv_reader = csv.reader(train)\n",
        "    \n",
        "    next(csv_reader)  # Skip the header\n",
        "\n",
        "    for row in csv_reader:\n",
        "\n",
        "        # Append image\n",
        "        pixels_str = row[1]\n",
        "        pixels_list = [int(i) for i in pixels_str.split(' ')]\n",
        "        pixels_list = numpy.array(pixels_list, dtype='uint8')\n",
        "        image = pixels_list.reshape((48, 48))\n",
        "        train_images.append(image)\n",
        "\n",
        "        label_str = row[0]\n",
        "\n",
        "        # Calculate categories count\n",
        "        count = 0\n",
        "        if label_str in categories_count:\n",
        "            count = categories_count[label_str] + 1\n",
        "        categories_count[label_str] = count\n",
        "\n",
        "        # Append label\n",
        "        label = int(label_str)\n",
        "        train_labels.append(label)\n",
        "\n",
        "# Create numpy array of train images and labels\n",
        "x_train = numpy.array(train_images)\n",
        "y_train = numpy.array(train_labels)\n",
        "\n",
        "print('x_train shape: {0}'.format(x_train.shape))\n",
        "print('y_train shape: {0}'.format(y_train.shape))"
      ],
      "metadata": {
        "colab": {
          "base_uri": "https://localhost:8080/"
        },
        "id": "HViu1igcggw4",
        "outputId": "1a8860d7-a072-429a-ee16-e4881bf3f998"
      },
      "execution_count": 4,
      "outputs": [
        {
          "output_type": "stream",
          "name": "stdout",
          "text": [
            "x_train shape: (28709, 48, 48)\n",
            "y_train shape: (28709,)\n"
          ]
        }
      ]
    },
    {
      "cell_type": "code",
      "source": [
        "categories = ('Angry', 'Disgust', 'Fear', 'Happy', 'Sad', 'Surprise', 'Neutral')\n",
        "y_pos = numpy.arange(len(categories))\n",
        "\n",
        "counts = []\n",
        "for label in range(len(categories)):\n",
        "    label_str = str(label)\n",
        "    count = categories_count[label_str]\n",
        "    counts.append(count)\n",
        "\n",
        "# Draw histogram\n",
        "plt.bar(y_pos, counts, align='center')\n",
        "plt.xticks(y_pos, categories)\n",
        "plt.ylabel('Count')\n",
        "plt.title('FER2013 Dataset Categories')\n",
        "\n",
        "plt.show()"
      ],
      "metadata": {
        "colab": {
          "base_uri": "https://localhost:8080/",
          "height": 452
        },
        "id": "YzII6OtRgjyK",
        "outputId": "82efd68b-5691-44d2-e8c5-227a746f2e17"
      },
      "execution_count": 5,
      "outputs": [
        {
          "output_type": "display_data",
          "data": {
            "text/plain": [
              "<Figure size 640x480 with 1 Axes>"
            ],
            "image/png": "[encoded data removed]"
          },
          "metadata": {}
        }
      ]
    },
    {
      "cell_type": "code",
      "source": [
        "\n",
        "# Split dataset into train set and test set\n",
        "x_train, x_test, y_train, y_test = train_test_split(x_train, y_train, test_size=0.2)\n",
        "x_train, x_test = x_train / 255.0, x_test / 255.0\n",
        "\n",
        "x_train = x_train.reshape(len(x_train), 48, 48,1 )\n",
        "x_test = x_test.reshape(len(x_test), 48, 48,1 )\n",
        "\n",
        "print(x_train.shape)\n",
        "print(x_test.shape)"
      ],
      "metadata": {
        "colab": {
          "base_uri": "https://localhost:8080/"
        },
        "id": "y9yoWQPQgl7C",
        "outputId": "1304eab4-e4dc-4f19-a95d-2fe6c607903a"
      },
      "execution_count": 6,
      "outputs": [
        {
          "output_type": "stream",
          "name": "stdout",
          "text": [
            "(22967, 48, 48, 1)\n",
            "(5742, 48, 48, 1)\n"
          ]
        }
      ]
    },
    {
      "cell_type": "code",
      "source": [
        "\n",
        "from tensorflow import keras\n",
        "\n",
        "model =keras.Sequential()\n",
        "\n",
        "model.add(Conv2D(176, kernel_size=(3, 3), activation='relu', input_shape=(48,48, 1),))\n",
        "model.add(Conv2D(176, kernel_size=(3, 3), activation='relu', padding='same'))\n",
        "model.add(BatchNormalization())\n",
        "model.add(MaxPooling2D(pool_size=(2, 2), strides=(2, 2)))\n",
        "model.add(Dropout(0.5))\n",
        "\n",
        "model.add(Conv2D(352, kernel_size=(3, 3), activation='relu', padding='same'))\n",
        "model.add(BatchNormalization())\n",
        "model.add(Conv2D(352, kernel_size=(3, 3), activation='relu', padding='same'))\n",
        "model.add(BatchNormalization())\n",
        "model.add(MaxPooling2D(pool_size=(2, 2), strides=(2, 2)))\n",
        "model.add(Dropout(0.5))\n",
        "\n",
        "model.add(Conv2D(704, kernel_size=(3, 3), activation='relu', padding='same'))\n",
        "model.add(BatchNormalization())\n",
        "model.add(Conv2D(704, kernel_size=(3, 3), activation='relu', padding='same'))\n",
        "model.add(BatchNormalization())\n",
        "model.add(MaxPooling2D(pool_size=(2, 2), strides=(2, 2)))\n",
        "model.add(Dropout(0.5))\n",
        "\n",
        "model.add(Conv2D(1048, kernel_size=(3, 3), activation='relu', padding='same'))\n",
        "model.add(BatchNormalization())\n",
        "model.add(Conv2D(1048, kernel_size=(3, 3), activation='relu', padding='same'))\n",
        "model.add(BatchNormalization())\n",
        "model.add(MaxPooling2D(pool_size=(2, 2), strides=(2, 2)))\n",
        "model.add(Dropout(0.5))\n",
        "\n",
        "model.add(Flatten())\n",
        "\n",
        "model.add(Dense(1048, activation='relu'))\n",
        "model.add(Dropout(0.4))\n",
        "model.add(Dense(704, activation='relu'))\n",
        "model.add(Dropout(0.4))\n",
        "model.add(Dense(352, activation='relu'))\n",
        "model.add(Dropout(0.5))\n",
        "\n",
        "model.add(Dense(7, activation='softmax'))\n",
        "\n",
        "model.compile(loss='sparse_categorical_crossentropy',optimizer=Adam(learning_rate=0.001,),metrics=['accuracy'])\n"
      ],
      "metadata": {
        "id": "rS66JuySEEZQ"
      },
      "execution_count": null,
      "outputs": []
    },
    {
      "cell_type": "code",
      "source": [
        "model.summary()"
      ],
      "metadata": {
        "id": "ayeZpFk6Zjwb",
        "outputId": "e0a1ef73-9d17-4ab2-ea9a-f516c1a53bbb",
        "colab": {
          "base_uri": "https://localhost:8080/"
        }
      },
      "execution_count": 11,
      "outputs": [
        {
          "output_type": "stream",
          "name": "stdout",
          "text": [
            "Model: \"sequential\"\n",
            "_________________________________________________________________\n",
            " Layer (type)                Output Shape              Param #   \n",
            "=================================================================\n",
            " conv2d (Conv2D)             (None, 46, 46, 176)       1760      \n",
            "                                                                 \n",
            " conv2d_1 (Conv2D)           (None, 46, 46, 176)       278960    \n",
            "                                                                 \n",
            " batch_normalization (BatchN  (None, 46, 46, 176)      704       \n",
            " ormalization)                                                   \n",
            "                                                                 \n",
            " max_pooling2d (MaxPooling2D  (None, 23, 23, 176)      0         \n",
            " )                                                               \n",
            "                                                                 \n",
            " dropout (Dropout)           (None, 23, 23, 176)       0         \n",
            "                                                                 \n",
            " conv2d_2 (Conv2D)           (None, 23, 23, 352)       557920    \n",
            "                                                                 \n",
            " batch_normalization_1 (Batc  (None, 23, 23, 352)      1408      \n",
            " hNormalization)                                                 \n",
            "                                                                 \n",
            " conv2d_3 (Conv2D)           (None, 23, 23, 352)       1115488   \n",
            "                                                                 \n",
            " batch_normalization_2 (Batc  (None, 23, 23, 352)      1408      \n",
            " hNormalization)                                                 \n",
            "                                                                 \n",
            " max_pooling2d_1 (MaxPooling  (None, 11, 11, 352)      0         \n",
            " 2D)                                                             \n",
            "                                                                 \n",
            " dropout_1 (Dropout)         (None, 11, 11, 352)       0         \n",
            "                                                                 \n",
            " conv2d_4 (Conv2D)           (None, 11, 11, 704)       2230976   \n",
            "                                                                 \n",
            " batch_normalization_3 (Batc  (None, 11, 11, 704)      2816      \n",
            " hNormalization)                                                 \n",
            "                                                                 \n",
            " conv2d_5 (Conv2D)           (None, 11, 11, 704)       4461248   \n",
            "                                                                 \n",
            " batch_normalization_4 (Batc  (None, 11, 11, 704)      2816      \n",
            " hNormalization)                                                 \n",
            "                                                                 \n",
            " max_pooling2d_2 (MaxPooling  (None, 5, 5, 704)        0         \n",
            " 2D)                                                             \n",
            "                                                                 \n",
            " dropout_2 (Dropout)         (None, 5, 5, 704)         0         \n",
            "                                                                 \n",
            " conv2d_6 (Conv2D)           (None, 5, 5, 1408)        8922496   \n",
            "                                                                 \n",
            " batch_normalization_5 (Batc  (None, 5, 5, 1408)       5632      \n",
            " hNormalization)                                                 \n",
            "                                                                 \n",
            " conv2d_7 (Conv2D)           (None, 5, 5, 1408)        17843584  \n",
            "                                                                 \n",
            " batch_normalization_6 (Batc  (None, 5, 5, 1408)       5632      \n",
            " hNormalization)                                                 \n",
            "                                                                 \n",
            " max_pooling2d_3 (MaxPooling  (None, 2, 2, 1408)       0         \n",
            " 2D)                                                             \n",
            "                                                                 \n",
            " dropout_3 (Dropout)         (None, 2, 2, 1408)        0         \n",
            "                                                                 \n",
            " flatten (Flatten)           (None, 5632)              0         \n",
            "                                                                 \n",
            " dense (Dense)               (None, 1408)              7931264   \n",
            "                                                                 \n",
            " dropout_4 (Dropout)         (None, 1408)              0         \n",
            "                                                                 \n",
            " dense_1 (Dense)             (None, 704)               991936    \n",
            "                                                                 \n",
            " dropout_5 (Dropout)         (None, 704)               0         \n",
            "                                                                 \n",
            " dense_2 (Dense)             (None, 352)               248160    \n",
            "                                                                 \n",
            " dropout_6 (Dropout)         (None, 352)               0         \n",
            "                                                                 \n",
            " dense_3 (Dense)             (None, 7)                 2471      \n",
            "                                                                 \n",
            "=================================================================\n",
            "Total params: 44,606,679\n",
            "Trainable params: 44,596,471\n",
            "Non-trainable params: 10,208\n",
            "_________________________________________________________________\n"
          ]
        }
      ]
    },
    {
      "cell_type": "code",
      "source": [
        "callback = tf.keras.callbacks.EarlyStopping(\n",
        "    monitor=\"val_loss\",\n",
        "    min_delta=0.0000001,\n",
        "    patience=0,\n",
        "    verbose=1,\n",
        "    mode=\"auto\",\n",
        "    baseline=None,\n",
        "    restore_best_weights=False,\n",
        "    start_from_epoch=0,\n",
        ")"
      ],
      "metadata": {
        "id": "CnogmJgNijcp"
      },
      "execution_count": 13,
      "outputs": []
    },
    {
      "cell_type": "code",
      "source": [
        "history = model.fit(x_train,y_train,epochs=100,batch_size=176,validation_data=(x_test,y_test))"
      ],
      "metadata": {
        "id": "PBnz7NLfbI1R",
        "outputId": "6dcd626c-02b2-44ac-b62b-ec5385385a73",
        "colab": {
          "base_uri": "https://localhost:8080/"
        }
      },
      "execution_count": 14,
      "outputs": [
        {
          "output_type": "stream",
          "name": "stdout",
          "text": [
            "Epoch 1/100\n",
            "131/131 [==============================] - 130s 731ms/step - loss: 2.3439 - accuracy: 0.2024 - val_loss: 1.8192 - val_accuracy: 0.2557\n",
            "Epoch 2/100\n",
            "131/131 [==============================] - 83s 638ms/step - loss: 1.8394 - accuracy: 0.2332 - val_loss: 1.8053 - val_accuracy: 0.2557\n",
            "Epoch 3/100\n",
            "131/131 [==============================] - 89s 682ms/step - loss: 1.7997 - accuracy: 0.2591 - val_loss: 1.7862 - val_accuracy: 0.2593\n",
            "Epoch 4/100\n",
            "131/131 [==============================] - 89s 682ms/step - loss: 1.7299 - accuracy: 0.3001 - val_loss: 1.7886 - val_accuracy: 0.2574\n",
            "Epoch 5/100\n",
            "131/131 [==============================] - 89s 682ms/step - loss: 1.6490 - accuracy: 0.3453 - val_loss: 1.6958 - val_accuracy: 0.3130\n",
            "Epoch 6/100\n",
            "131/131 [==============================] - 89s 683ms/step - loss: 1.5352 - accuracy: 0.3968 - val_loss: 1.4994 - val_accuracy: 0.4023\n",
            "Epoch 7/100\n",
            "131/131 [==============================] - 89s 683ms/step - loss: 1.4545 - accuracy: 0.4351 - val_loss: 1.4289 - val_accuracy: 0.4377\n",
            "Epoch 8/100\n",
            "131/131 [==============================] - 89s 681ms/step - loss: 1.3841 - accuracy: 0.4661 - val_loss: 1.5321 - val_accuracy: 0.4054\n",
            "Epoch 9/100\n",
            "131/131 [==============================] - 89s 680ms/step - loss: 1.3299 - accuracy: 0.4909 - val_loss: 1.4995 - val_accuracy: 0.4028\n",
            "Epoch 10/100\n",
            "131/131 [==============================] - 89s 679ms/step - loss: 1.2940 - accuracy: 0.5083 - val_loss: 1.3391 - val_accuracy: 0.4746\n",
            "Epoch 11/100\n",
            "131/131 [==============================] - 89s 677ms/step - loss: 1.2524 - accuracy: 0.5235 - val_loss: 1.5057 - val_accuracy: 0.4187\n",
            "Epoch 12/100\n",
            "131/131 [==============================] - 89s 677ms/step - loss: 1.2037 - accuracy: 0.5477 - val_loss: 1.2777 - val_accuracy: 0.5158\n",
            "Epoch 13/100\n",
            "131/131 [==============================] - 84s 639ms/step - loss: 1.1655 - accuracy: 0.5615 - val_loss: 1.2284 - val_accuracy: 0.5378\n",
            "Epoch 14/100\n",
            "131/131 [==============================] - 88s 673ms/step - loss: 1.1318 - accuracy: 0.5798 - val_loss: 1.1829 - val_accuracy: 0.5526\n",
            "Epoch 15/100\n",
            "131/131 [==============================] - 83s 637ms/step - loss: 1.0923 - accuracy: 0.5941 - val_loss: 1.1918 - val_accuracy: 0.5498\n",
            "Epoch 16/100\n",
            "131/131 [==============================] - 88s 674ms/step - loss: 1.0541 - accuracy: 0.6089 - val_loss: 1.1644 - val_accuracy: 0.5648\n",
            "Epoch 17/100\n",
            "131/131 [==============================] - 88s 673ms/step - loss: 1.0183 - accuracy: 0.6202 - val_loss: 1.1616 - val_accuracy: 0.5763\n",
            "Epoch 18/100\n",
            "131/131 [==============================] - 88s 673ms/step - loss: 0.9754 - accuracy: 0.6391 - val_loss: 1.1503 - val_accuracy: 0.5719\n",
            "Epoch 19/100\n",
            "131/131 [==============================] - 88s 672ms/step - loss: 0.9478 - accuracy: 0.6544 - val_loss: 1.1664 - val_accuracy: 0.5690\n",
            "Epoch 20/100\n",
            "131/131 [==============================] - 88s 672ms/step - loss: 0.8967 - accuracy: 0.6771 - val_loss: 1.2204 - val_accuracy: 0.5486\n",
            "Epoch 21/100\n",
            "131/131 [==============================] - 88s 672ms/step - loss: 0.8706 - accuracy: 0.6841 - val_loss: 1.0770 - val_accuracy: 0.6183\n",
            "Epoch 22/100\n",
            "131/131 [==============================] - 83s 634ms/step - loss: 0.8198 - accuracy: 0.7040 - val_loss: 1.2958 - val_accuracy: 0.5599\n",
            "Epoch 23/100\n",
            "131/131 [==============================] - 88s 669ms/step - loss: 0.7842 - accuracy: 0.7189 - val_loss: 1.1635 - val_accuracy: 0.6071\n",
            "Epoch 24/100\n",
            "131/131 [==============================] - 88s 670ms/step - loss: 0.7672 - accuracy: 0.7259 - val_loss: 1.1615 - val_accuracy: 0.5956\n",
            "Epoch 25/100\n",
            "131/131 [==============================] - 88s 671ms/step - loss: 0.6891 - accuracy: 0.7529 - val_loss: 1.4079 - val_accuracy: 0.5808\n",
            "Epoch 26/100\n",
            "131/131 [==============================] - 88s 670ms/step - loss: 0.6852 - accuracy: 0.7570 - val_loss: 1.2284 - val_accuracy: 0.5987\n",
            "Epoch 27/100\n",
            "131/131 [==============================] - 83s 632ms/step - loss: 0.6333 - accuracy: 0.7764 - val_loss: 1.2576 - val_accuracy: 0.6021\n",
            "Epoch 28/100\n",
            "131/131 [==============================] - 83s 630ms/step - loss: 0.5929 - accuracy: 0.7945 - val_loss: 1.2540 - val_accuracy: 0.5925\n",
            "Epoch 29/100\n",
            "131/131 [==============================] - 87s 665ms/step - loss: 0.5383 - accuracy: 0.8149 - val_loss: 1.2831 - val_accuracy: 0.6142\n",
            "Epoch 30/100\n",
            "131/131 [==============================] - 88s 670ms/step - loss: 0.5165 - accuracy: 0.8238 - val_loss: 1.2289 - val_accuracy: 0.6202\n",
            "Epoch 31/100\n",
            "131/131 [==============================] - 88s 670ms/step - loss: 0.4713 - accuracy: 0.8413 - val_loss: 1.3972 - val_accuracy: 0.6146\n",
            "Epoch 32/100\n",
            "131/131 [==============================] - 88s 669ms/step - loss: 0.4377 - accuracy: 0.8531 - val_loss: 1.4218 - val_accuracy: 0.6135\n",
            "Epoch 33/100\n",
            "131/131 [==============================] - 88s 669ms/step - loss: 0.4200 - accuracy: 0.8602 - val_loss: 1.4410 - val_accuracy: 0.6142\n",
            "Epoch 34/100\n",
            "131/131 [==============================] - 83s 630ms/step - loss: 0.3972 - accuracy: 0.8694 - val_loss: 1.5184 - val_accuracy: 0.6024\n",
            "Epoch 35/100\n",
            "131/131 [==============================] - 87s 666ms/step - loss: 0.3663 - accuracy: 0.8780 - val_loss: 1.3937 - val_accuracy: 0.6108\n",
            "Epoch 36/100\n",
            "131/131 [==============================] - 87s 668ms/step - loss: 0.3356 - accuracy: 0.8897 - val_loss: 1.4717 - val_accuracy: 0.6334\n",
            "Epoch 37/100\n",
            "131/131 [==============================] - 88s 670ms/step - loss: 0.2954 - accuracy: 0.9063 - val_loss: 1.4716 - val_accuracy: 0.6153\n",
            "Epoch 38/100\n",
            "131/131 [==============================] - 83s 631ms/step - loss: 0.2962 - accuracy: 0.9050 - val_loss: 1.6700 - val_accuracy: 0.6339\n",
            "Epoch 39/100\n",
            "131/131 [==============================] - 82s 628ms/step - loss: 0.2749 - accuracy: 0.9142 - val_loss: 1.6416 - val_accuracy: 0.6139\n",
            "Epoch 40/100\n",
            "131/131 [==============================] - 82s 627ms/step - loss: 0.2571 - accuracy: 0.9185 - val_loss: 1.6302 - val_accuracy: 0.6219\n",
            "Epoch 41/100\n",
            "131/131 [==============================] - 87s 667ms/step - loss: 0.2553 - accuracy: 0.9220 - val_loss: 1.7640 - val_accuracy: 0.6088\n",
            "Epoch 42/100\n",
            "131/131 [==============================] - 87s 667ms/step - loss: 0.2460 - accuracy: 0.9252 - val_loss: 1.5387 - val_accuracy: 0.6271\n",
            "Epoch 43/100\n",
            "131/131 [==============================] - 83s 631ms/step - loss: 0.2281 - accuracy: 0.9283 - val_loss: 1.6610 - val_accuracy: 0.6137\n",
            "Epoch 44/100\n",
            "131/131 [==============================] - 87s 667ms/step - loss: 0.2218 - accuracy: 0.9319 - val_loss: 1.8891 - val_accuracy: 0.6191\n",
            "Epoch 45/100\n",
            "131/131 [==============================] - 83s 630ms/step - loss: 0.2069 - accuracy: 0.9369 - val_loss: 1.7674 - val_accuracy: 0.6198\n",
            "Epoch 46/100\n",
            "131/131 [==============================] - 82s 627ms/step - loss: 0.2085 - accuracy: 0.9353 - val_loss: 1.7747 - val_accuracy: 0.6141\n",
            "Epoch 47/100\n",
            "131/131 [==============================] - 82s 629ms/step - loss: 0.1938 - accuracy: 0.9406 - val_loss: 1.7106 - val_accuracy: 0.6191\n",
            "Epoch 48/100\n",
            "131/131 [==============================] - 87s 664ms/step - loss: 0.1877 - accuracy: 0.9413 - val_loss: 1.8923 - val_accuracy: 0.6127\n",
            "Epoch 49/100\n",
            "131/131 [==============================] - 88s 669ms/step - loss: 0.1839 - accuracy: 0.9454 - val_loss: 2.0808 - val_accuracy: 0.6257\n",
            "Epoch 50/100\n",
            "131/131 [==============================] - 88s 669ms/step - loss: 0.1794 - accuracy: 0.9461 - val_loss: 2.0098 - val_accuracy: 0.6210\n",
            "Epoch 51/100\n",
            "131/131 [==============================] - 83s 632ms/step - loss: 0.1668 - accuracy: 0.9502 - val_loss: 1.9099 - val_accuracy: 0.6108\n",
            "Epoch 52/100\n",
            "131/131 [==============================] - 87s 665ms/step - loss: 0.1556 - accuracy: 0.9533 - val_loss: 2.0238 - val_accuracy: 0.6306\n",
            "Epoch 53/100\n",
            "131/131 [==============================] - 87s 668ms/step - loss: 0.1708 - accuracy: 0.9491 - val_loss: 1.8769 - val_accuracy: 0.6228\n",
            "Epoch 54/100\n",
            "131/131 [==============================] - 83s 631ms/step - loss: 0.1512 - accuracy: 0.9537 - val_loss: 1.9478 - val_accuracy: 0.6256\n",
            "Epoch 55/100\n",
            "131/131 [==============================] - 82s 629ms/step - loss: 0.1620 - accuracy: 0.9534 - val_loss: 1.9262 - val_accuracy: 0.6203\n",
            "Epoch 56/100\n",
            "131/131 [==============================] - 87s 665ms/step - loss: 0.1665 - accuracy: 0.9511 - val_loss: 2.1019 - val_accuracy: 0.6217\n",
            "Epoch 57/100\n",
            "131/131 [==============================] - 87s 668ms/step - loss: 0.1447 - accuracy: 0.9562 - val_loss: 2.2103 - val_accuracy: 0.6061\n",
            "Epoch 58/100\n",
            "131/131 [==============================] - 88s 669ms/step - loss: 0.1488 - accuracy: 0.9557 - val_loss: 2.1945 - val_accuracy: 0.6226\n",
            "Epoch 59/100\n",
            "131/131 [==============================] - 88s 670ms/step - loss: 0.1407 - accuracy: 0.9580 - val_loss: 2.0722 - val_accuracy: 0.6275\n",
            "Epoch 60/100\n",
            "131/131 [==============================] - 88s 669ms/step - loss: 0.1465 - accuracy: 0.9567 - val_loss: 2.1492 - val_accuracy: 0.6217\n",
            "Epoch 61/100\n",
            "131/131 [==============================] - 88s 669ms/step - loss: 0.1454 - accuracy: 0.9588 - val_loss: 1.9316 - val_accuracy: 0.6256\n",
            "Epoch 62/100\n",
            "131/131 [==============================] - 83s 631ms/step - loss: 0.1357 - accuracy: 0.9622 - val_loss: 2.1445 - val_accuracy: 0.6270\n",
            "Epoch 63/100\n",
            "131/131 [==============================] - 82s 629ms/step - loss: 0.1228 - accuracy: 0.9637 - val_loss: 1.9551 - val_accuracy: 0.6146\n",
            "Epoch 64/100\n",
            "131/131 [==============================] - 82s 626ms/step - loss: 0.1334 - accuracy: 0.9616 - val_loss: 2.0398 - val_accuracy: 0.6186\n",
            "Epoch 65/100\n",
            "131/131 [==============================] - 87s 664ms/step - loss: 0.1271 - accuracy: 0.9628 - val_loss: 2.0456 - val_accuracy: 0.6191\n",
            "Epoch 66/100\n",
            "131/131 [==============================] - 83s 630ms/step - loss: 0.1212 - accuracy: 0.9634 - val_loss: 2.2692 - val_accuracy: 0.6240\n",
            "Epoch 67/100\n",
            "131/131 [==============================] - 87s 667ms/step - loss: 0.1243 - accuracy: 0.9649 - val_loss: 2.1416 - val_accuracy: 0.6252\n",
            "Epoch 68/100\n",
            "131/131 [==============================] - 87s 668ms/step - loss: 0.1251 - accuracy: 0.9650 - val_loss: 1.9205 - val_accuracy: 0.6233\n",
            "Epoch 69/100\n",
            "131/131 [==============================] - 88s 669ms/step - loss: 0.1162 - accuracy: 0.9660 - val_loss: 2.1483 - val_accuracy: 0.6294\n",
            "Epoch 70/100\n",
            "131/131 [==============================] - 83s 632ms/step - loss: 0.1266 - accuracy: 0.9646 - val_loss: 2.1540 - val_accuracy: 0.6146\n",
            "Epoch 71/100\n",
            "131/131 [==============================] - 82s 629ms/step - loss: 0.1304 - accuracy: 0.9619 - val_loss: 2.2762 - val_accuracy: 0.6146\n",
            "Epoch 72/100\n",
            "131/131 [==============================] - 87s 665ms/step - loss: 0.1200 - accuracy: 0.9657 - val_loss: 2.0799 - val_accuracy: 0.6228\n",
            "Epoch 73/100\n",
            "131/131 [==============================] - 88s 669ms/step - loss: 0.1245 - accuracy: 0.9654 - val_loss: 2.0467 - val_accuracy: 0.6216\n",
            "Epoch 74/100\n",
            "131/131 [==============================] - 83s 632ms/step - loss: 0.1205 - accuracy: 0.9664 - val_loss: 2.2062 - val_accuracy: 0.6188\n",
            "Epoch 75/100\n",
            "131/131 [==============================] - 87s 668ms/step - loss: 0.1151 - accuracy: 0.9678 - val_loss: 2.1141 - val_accuracy: 0.6210\n",
            "Epoch 76/100\n",
            "131/131 [==============================] - 88s 668ms/step - loss: 0.1240 - accuracy: 0.9645 - val_loss: 2.1379 - val_accuracy: 0.6122\n",
            "Epoch 77/100\n",
            "131/131 [==============================] - 88s 670ms/step - loss: 0.1146 - accuracy: 0.9686 - val_loss: 1.8534 - val_accuracy: 0.6156\n",
            "Epoch 78/100\n",
            "131/131 [==============================] - 88s 670ms/step - loss: 0.1151 - accuracy: 0.9677 - val_loss: 2.3052 - val_accuracy: 0.6216\n",
            "Epoch 79/100\n",
            "131/131 [==============================] - 88s 670ms/step - loss: 0.1162 - accuracy: 0.9679 - val_loss: 2.2132 - val_accuracy: 0.6216\n",
            "Epoch 80/100\n",
            "131/131 [==============================] - 88s 670ms/step - loss: 0.1060 - accuracy: 0.9707 - val_loss: 2.2643 - val_accuracy: 0.6313\n",
            "Epoch 81/100\n",
            "131/131 [==============================] - 88s 669ms/step - loss: 0.1079 - accuracy: 0.9707 - val_loss: 2.2890 - val_accuracy: 0.6289\n",
            "Epoch 82/100\n",
            "131/131 [==============================] - 88s 670ms/step - loss: 0.0992 - accuracy: 0.9717 - val_loss: 2.2368 - val_accuracy: 0.6315\n",
            "Epoch 83/100\n",
            "131/131 [==============================] - 83s 632ms/step - loss: 0.0973 - accuracy: 0.9726 - val_loss: 2.3662 - val_accuracy: 0.6207\n",
            "Epoch 84/100\n",
            "131/131 [==============================] - 87s 667ms/step - loss: 0.1068 - accuracy: 0.9692 - val_loss: 2.0397 - val_accuracy: 0.6226\n",
            "Epoch 85/100\n",
            "131/131 [==============================] - 88s 669ms/step - loss: 0.1079 - accuracy: 0.9696 - val_loss: 2.3419 - val_accuracy: 0.6350\n",
            "Epoch 86/100\n",
            "131/131 [==============================] - 83s 632ms/step - loss: 0.0974 - accuracy: 0.9722 - val_loss: 2.6086 - val_accuracy: 0.6257\n",
            "Epoch 87/100\n",
            "131/131 [==============================] - 82s 629ms/step - loss: 0.0986 - accuracy: 0.9717 - val_loss: 2.4119 - val_accuracy: 0.6287\n",
            "Epoch 88/100\n",
            "131/131 [==============================] - 82s 626ms/step - loss: 0.1069 - accuracy: 0.9698 - val_loss: 2.4061 - val_accuracy: 0.6109\n",
            "Epoch 89/100\n",
            "131/131 [==============================] - 87s 665ms/step - loss: 0.1028 - accuracy: 0.9705 - val_loss: 2.5686 - val_accuracy: 0.6278\n",
            "Epoch 90/100\n",
            "131/131 [==============================] - 88s 669ms/step - loss: 0.0985 - accuracy: 0.9731 - val_loss: 2.2787 - val_accuracy: 0.6308\n",
            "Epoch 91/100\n",
            "131/131 [==============================] - 83s 631ms/step - loss: 0.0949 - accuracy: 0.9751 - val_loss: 2.4441 - val_accuracy: 0.6278\n",
            "Epoch 92/100\n",
            "131/131 [==============================] - 87s 668ms/step - loss: 0.0836 - accuracy: 0.9764 - val_loss: 2.6493 - val_accuracy: 0.6264\n",
            "Epoch 93/100\n",
            "131/131 [==============================] - 88s 670ms/step - loss: 0.0809 - accuracy: 0.9775 - val_loss: 2.3846 - val_accuracy: 0.6280\n",
            "Epoch 94/100\n",
            "131/131 [==============================] - 88s 671ms/step - loss: 0.0969 - accuracy: 0.9734 - val_loss: 2.2376 - val_accuracy: 0.6203\n",
            "Epoch 95/100\n",
            "131/131 [==============================] - 83s 632ms/step - loss: 0.0985 - accuracy: 0.9717 - val_loss: 2.3972 - val_accuracy: 0.6202\n",
            "Epoch 96/100\n",
            "131/131 [==============================] - 88s 669ms/step - loss: 0.0970 - accuracy: 0.9717 - val_loss: 2.1203 - val_accuracy: 0.6242\n",
            "Epoch 97/100\n",
            "131/131 [==============================] - 88s 669ms/step - loss: 0.0969 - accuracy: 0.9730 - val_loss: 2.2022 - val_accuracy: 0.6104\n",
            "Epoch 98/100\n",
            "131/131 [==============================] - 88s 670ms/step - loss: 0.0947 - accuracy: 0.9737 - val_loss: 2.4388 - val_accuracy: 0.6242\n",
            "Epoch 99/100\n",
            "131/131 [==============================] - 88s 670ms/step - loss: 0.0967 - accuracy: 0.9725 - val_loss: 2.3288 - val_accuracy: 0.6339\n",
            "Epoch 100/100\n",
            "131/131 [==============================] - 88s 670ms/step - loss: 0.0985 - accuracy: 0.9731 - val_loss: 2.3447 - val_accuracy: 0.6332\n"
          ]
        }
      ]
    },
    {
      "cell_type": "code",
      "source": [
        "y_prob =model.predict(x_test)\n",
        "y_pred=y_prob.argmax(axis=1)"
      ],
      "metadata": {
        "id": "x5wGenTbbmBW",
        "outputId": "a8631156-17f4-4229-e82c-469b85ed30ee",
        "colab": {
          "base_uri": "https://localhost:8080/"
        }
      },
      "execution_count": 15,
      "outputs": [
        {
          "output_type": "stream",
          "name": "stdout",
          "text": [
            "180/180 [==============================] - 9s 42ms/step\n"
          ]
        }
      ]
    },
    {
      "cell_type": "markdown",
      "source": [],
      "metadata": {
        "id": "9z02uF0MH6IM"
      }
    },
    {
      "cell_type": "code",
      "source": [
        "from sklearn.metrics import accuracy_score\n",
        "accuracy_score(y_test,y_pred)"
      ],
      "metadata": {
        "id": "k8kn023xeNUp",
        "outputId": "5dd0d174-15c7-474e-baae-b19741ac472a",
        "colab": {
          "base_uri": "https://localhost:8080/"
        }
      },
      "execution_count": 17,
      "outputs": [
        {
          "output_type": "execute_result",
          "data": {
            "text/plain": [
              "0.6332288401253918"
            ]
          },
          "metadata": {},
          "execution_count": 17
        }
      ]
    },
    {
      "cell_type": "code",
      "source": [
        "plt.plot(history.history['loss'])\n",
        "plt.plot(history.history['val_loss'])"
      ],
      "metadata": {
        "id": "LazXCOvgeQpE",
        "outputId": "0e61ca90-cf98-4ec6-ca29-f91ad05a9363",
        "colab": {
          "base_uri": "https://localhost:8080/",
          "height": 447
        }
      },
      "execution_count": 18,
      "outputs": [
        {
          "output_type": "execute_result",
          "data": {
            "text/plain": [
              "[<matplotlib.lines.Line2D at 0x7f5d70fa5430>]"
            ]
          },
          "metadata": {},
          "execution_count": 18
        },
        {
          "output_type": "display_data",
          "data": {
            "text/plain": [
              "<Figure size 640x480 with 1 Axes>"
            ],
            "image/png": "[encoded data removed]"
          },
          "metadata": {}
        }
      ]
    },
    {
      "cell_type": "code",
      "source": [
        "plt.plot(history.history['accuracy'])\n",
        "plt.plot(history.history['val_accuracy'])"
      ],
      "metadata": {
        "id": "sVRvqOa3gl57",
        "outputId": "d86adb57-af5f-4d94-8f99-0709caa9ebca",
        "colab": {
          "base_uri": "https://localhost:8080/",
          "height": 447
        }
      },
      "execution_count": 19,
      "outputs": [
        {
          "output_type": "execute_result",
          "data": {
            "text/plain": [
              "[<matplotlib.lines.Line2D at 0x7f5d70f18250>]"
            ]
          },
          "metadata": {},
          "execution_count": 19
        },
        {
          "output_type": "display_data",
          "data": {
            "text/plain": [
              "<Figure size 640x480 with 1 Axes>"
            ],
            "image/png": "[encoded data removed]"
          },
          "metadata": {}
        }
      ]
    }
  ]
}